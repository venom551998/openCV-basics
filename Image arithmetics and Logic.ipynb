{
 "cells": [
  {
   "cell_type": "code",
   "execution_count": 1,
   "metadata": {},
   "outputs": [],
   "source": [
    "import numpy as np\n",
    "import cv2"
   ]
  },
  {
   "cell_type": "code",
   "execution_count": 14,
   "metadata": {},
   "outputs": [],
   "source": [
    "img1 = cv2.imread('3D-Matplotlib.png')\n",
    "img2 = cv2.imread('mainsvmimage.png')\n",
    "img3 = cv2.imread('mainlogo.png')\n",
    "\n",
    "cv2.imshow('img1',img1)\n",
    "cv2.imshow('img2',img2)\n",
    "cv2.imshow('img3',img3)\n",
    "\n",
    "# add_by_numpy = img1 + img2                 #modulo operation\n",
    "# cv2.imshow('add_by_numpy',add_by_numpy)\n",
    "\n",
    "# add_by_opencv = cv2.add(img1,img2)         #saturation operation\n",
    "# cv2.imshow('add_by_opencv',add_by_opencv)\n",
    "\n",
    "# weighted = cv2.addWeighted(img1,0.7,img2,0.3,0)\n",
    "# cv2.imshow('weighted',weighted)\n",
    "\n",
    "rows,cols,chennels = img3.shape\n",
    "roi = img1[0:rows,0:cols]\n",
    "cv2.imshow('roi',roi)\n",
    "img3gray = cv2.cvtColor(img3,cv2.COLOR_BGR2GRAY)\n",
    "cv2.imshow('img3gray',img3gray)\n",
    "rat,mask = cv2.threshold(img3gray,220,255,cv2.THRESH_BINARY_INV)\n",
    "cv2.imshow('mask',mask)\n",
    "mask_inv = cv2.bitwise_not(mask)\n",
    "cv2.imshow('mask_inv',mask_inv)\n",
    "# rat,mask = cv2.threshold(img3gray,220,255,cv2.THRESH_BINARY)\n",
    "# cv2.imshow('mask',mask)\n",
    "img1_bg = cv2.bitwise_and(roi,roi,mask=mask_inv)\n",
    "cv2.imshow('img1_bg',img1_bg)\n",
    "img3_fg = cv2.bitwise_and(img3,img3,mask=mask)\n",
    "cv2.imshow('img3_fg',img3_fg)\n",
    "dst = cv2.add(img1_bg,img3_fg)\n",
    "cv2.imshow('dst',dst)\n",
    "img1[0:rows,0:cols] = dst\n",
    "cv2.imshow('new',img1)\n",
    "\n",
    "cv2.waitKey(0)\n",
    "cv2.destroyAllWindows()"
   ]
  },
  {
   "cell_type": "code",
   "execution_count": 7,
   "metadata": {},
   "outputs": [],
   "source": [
    "add = img1 + img2\n",
    "cv2.imshow('add',add)\n",
    "cv2.waitKey(0)\n",
    "cv2.destroyAllWindows()"
   ]
  },
  {
   "cell_type": "code",
   "execution_count": null,
   "metadata": {},
   "outputs": [],
   "source": []
  },
  {
   "cell_type": "code",
   "execution_count": null,
   "metadata": {},
   "outputs": [],
   "source": []
  },
  {
   "cell_type": "code",
   "execution_count": null,
   "metadata": {},
   "outputs": [],
   "source": []
  },
  {
   "cell_type": "code",
   "execution_count": null,
   "metadata": {},
   "outputs": [],
   "source": []
  }
 ],
 "metadata": {
  "kernelspec": {
   "display_name": "Python 3",
   "language": "python",
   "name": "python3"
  },
  "language_info": {
   "codemirror_mode": {
    "name": "ipython",
    "version": 3
   },
   "file_extension": ".py",
   "mimetype": "text/x-python",
   "name": "python",
   "nbconvert_exporter": "python",
   "pygments_lexer": "ipython3",
   "version": "3.6.4"
  }
 },
 "nbformat": 4,
 "nbformat_minor": 4
}
