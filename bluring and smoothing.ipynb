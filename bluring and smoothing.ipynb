{
 "cells": [
  {
   "cell_type": "code",
   "execution_count": 2,
   "metadata": {},
   "outputs": [],
   "source": [
    "import numpy as np\n",
    "import cv2"
   ]
  },
  {
   "cell_type": "code",
   "execution_count": null,
   "metadata": {},
   "outputs": [],
   "source": [
    "cap = cv2.VideoCapture(1)\n",
    "while(cap.isOpened()):\n",
    "    ret , frame = cap.read()\n",
    "    hsv = cv2.cvtColor(frame , cv2.COLOR_BGR2HSV)\n",
    "    lower_red = np.array([150,150,50])\n",
    "    upper_red = np.array([180,255,255])\n",
    "    mask = cv2.inRange(hsv,lower_red,upper_red)\n",
    "    res = cv2.bitwise_and(frame,frame, mask=mask)\n",
    "    kernel = np.ones((15,15),np.float32)/225\n",
    "    filter_image = cv2.filter2D(res,-1,kernel)\n",
    "    blur = cv2.blur(res,(15,15))\n",
    "    gaussianBlur = cv2.GaussianBlur(res,(15,15),0)\n",
    "    medianBlur = cv2.medianBlur(res,15)\n",
    "    bilateral = cv2.bilateralFilter(res,15,75,75)\n",
    "\n",
    "    #cv2.imshow('frame',frame)\n",
    "    #cv2.imshow('mask',mask)\n",
    "    #cv2.imshow('res',res)\n",
    "    #cv2.imshow('filter_image',filter_image)\n",
    "    cv2.imshow('blur',blur)\n",
    "    cv2.imshow('gaussianBlur',gaussianBlur)\n",
    "    cv2.imshow('medianBlur',medianBlur)\n",
    "    cv2.imshow('bilateral',bilateral)\n",
    "        \n",
    "    if cv2.waitKey(25) & 0xFF == ord('q'):\n",
    "        break\n",
    "cap.release()\n",
    "cv2.destroyAllWindows()"
   ]
  }
 ],
 "metadata": {
  "kernelspec": {
   "display_name": "Python 3",
   "language": "python",
   "name": "python3"
  },
  "language_info": {
   "codemirror_mode": {
    "name": "ipython",
    "version": 3
   },
   "file_extension": ".py",
   "mimetype": "text/x-python",
   "name": "python",
   "nbconvert_exporter": "python",
   "pygments_lexer": "ipython3",
   "version": "3.6.4"
  }
 },
 "nbformat": 4,
 "nbformat_minor": 4
}
