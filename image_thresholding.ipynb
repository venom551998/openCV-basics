{
 "cells": [
  {
   "cell_type": "code",
   "execution_count": 2,
   "metadata": {},
   "outputs": [],
   "source": [
    "import numpy as np\n",
    "import cv2"
   ]
  },
  {
   "cell_type": "code",
   "execution_count": 5,
   "metadata": {},
   "outputs": [],
   "source": [
    "img = cv2.imread('bookpage.jpg')\n",
    "cv2.imshow('original',img)\n",
    "\n",
    "retval , threshold = cv2.threshold(img,12,255,cv2.THRESH_BINARY)\n",
    "cv2.imshow('threshold',threshold)\n",
    "img_gray =  cv2.cvtColor(img,cv2.COLOR_BGR2GRAY)\n",
    "#cv2.imshow('gray_img',img_gray)\n",
    "retval2 , threshold2 = cv2.threshold(img_gray,12,255,cv2.THRESH_BINARY)\n",
    "cv2.imshow('gray_threshold',threshold2)\n",
    "\n",
    "cv2.waitKey(0)\n",
    "cv2.destroyAllWindows()"
   ]
  },
  {
   "cell_type": "code",
   "execution_count": 13,
   "metadata": {},
   "outputs": [],
   "source": [
    "threshold3 = cv2.adaptiveThreshold(img_gray,255,cv2.ADAPTIVE_THRESH_GAUSSIAN_C,cv2.THRESH_BINARY,115,1)\n",
    "cv2.imshow('threshold3',threshold3)\n",
    "\n",
    "threshold4 = cv2.adaptiveThreshold(img_gray,255,cv2.ADAPTIVE_THRESH_MEAN_C,cv2.THRESH_BINARY,115,1)\n",
    "cv2.imshow('threshold4',threshold4)\n",
    "\n",
    "ret2,threshold5 = cv2.threshold(img_gray,0,255,cv2.THRESH_BINARY+cv2.THRESH_OTSU)\n",
    "cv2.imshow('threshold5',threshold5)\n",
    "\n",
    "cv2.waitKey(0)\n",
    "cv2.destroyAllWindows()"
   ]
  }
 ],
 "metadata": {
  "kernelspec": {
   "display_name": "Python 3",
   "language": "python",
   "name": "python3"
  },
  "language_info": {
   "codemirror_mode": {
    "name": "ipython",
    "version": 3
   },
   "file_extension": ".py",
   "mimetype": "text/x-python",
   "name": "python",
   "nbconvert_exporter": "python",
   "pygments_lexer": "ipython3",
   "version": "3.6.4"
  }
 },
 "nbformat": 4,
 "nbformat_minor": 4
}
