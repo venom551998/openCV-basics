{
 "cells": [
  {
   "cell_type": "code",
   "execution_count": 1,
   "metadata": {},
   "outputs": [],
   "source": [
    "import numpy as np\n",
    "import cv2"
   ]
  },
  {
   "cell_type": "code",
   "execution_count": 2,
   "metadata": {},
   "outputs": [],
   "source": [
    "cap=cv2.VideoCapture(0)\n",
    "while(cap.isOpened()):\n",
    "  ret , frame=cap.read()\n",
    "  cv2.imshow('frame',frame)\n",
    "  if cv2.waitKey(1) & 0xFF==ord('q'):\n",
    "    break\n",
    "cap.release()\n",
    "cv2.destroyAllWindows()"
   ]
  },
  {
   "cell_type": "code",
   "execution_count": 3,
   "metadata": {},
   "outputs": [],
   "source": [
    "cap=cv2.VideoCapture(0)\n",
    "while(cap.isOpened()):\n",
    "  ret , frame=cap.read()\n",
    "  gray=cv2.cvtColor(frame,cv2.COLOR_BGR2GRAY)\n",
    "  cv2.imshow('frame',gray)\n",
    "  if cv2.waitKey(1) & 0xFF==ord('q'):\n",
    "    break\n",
    "cap.release()\n",
    "cv2.destroyAllWindows()"
   ]
  },
  {
   "cell_type": "code",
   "execution_count": 9,
   "metadata": {},
   "outputs": [],
   "source": [
    "cap=cv2.VideoCapture(0)\n",
    "fourcc=cv2.VideoWriter_fourcc(*'XVID')\n",
    "out=cv2.VideoWriter('saved/output.avi',fourcc,30.0,(640,480))\n",
    "\n",
    "while(cap.isOpened()):\n",
    "    ret,frame=cap.read()\n",
    "    out.write(frame)\n",
    "    cv2.imshow('frame',frame)\n",
    "    if cv2.waitKey(25) & 0xFF==ord('q'):\n",
    "        break\n",
    "cap.release()\n",
    "out.release()\n",
    "cv2.destroyAllWindows()"
   ]
  },
  {
   "cell_type": "code",
   "execution_count": 4,
   "metadata": {},
   "outputs": [],
   "source": [
    "cap=cv2.VideoCapture('VID-20180627-WA0001.mp4')\n",
    "while(cap.isOpened()):\n",
    "  ret , frame=cap.read()\n",
    "  gray=cv2.cvtColor(frame,cv2.COLOR_BGR2GRAY)\n",
    "  cv2.imshow('frame',gray)\n",
    "  if cv2.waitKey(25) & 0xFF==ord('q'):\n",
    "    break\n",
    "cap.release()\n",
    "cv2.destroyAllWindows()"
   ]
  }
 ],
 "metadata": {
  "kernelspec": {
   "display_name": "Python 3",
   "language": "python",
   "name": "python3"
  },
  "language_info": {
   "codemirror_mode": {
    "name": "ipython",
    "version": 3
   },
   "file_extension": ".py",
   "mimetype": "text/x-python",
   "name": "python",
   "nbconvert_exporter": "python",
   "pygments_lexer": "ipython3",
   "version": "3.6.4"
  }
 },
 "nbformat": 4,
 "nbformat_minor": 4
}
