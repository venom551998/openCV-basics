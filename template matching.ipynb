{
 "cells": [
  {
   "cell_type": "code",
   "execution_count": 1,
   "metadata": {},
   "outputs": [],
   "source": [
    "import numpy as np\n",
    "import cv2"
   ]
  },
  {
   "cell_type": "code",
   "execution_count": 28,
   "metadata": {},
   "outputs": [],
   "source": [
    "source = cv2.imread('opencv-template-matching-python-tutorial.jpg')\n",
    "source_gray = cv2.cvtColor(source , cv2.COLOR_BGR2GRAY)\n",
    "template = cv2.imread('opencv-template-for-matching.jpg',0)                     #0 = grayscale\n",
    "# cv2.imshow('source_gray',source_gray)\n",
    "# cv2.imshow('template',template)\n",
    "h , w = template.shape\n",
    "# print(h,w)\n",
    "# w1 , h1 = template.shape[::-1]\n",
    "# print(w1,h1)\n",
    "# print(source_gray.shape)\n",
    "res = cv2.matchTemplate(source_gray , template , cv2.TM_CCOEFF_NORMED)\n",
    "# cv2.imshow('res',res)\n",
    "\n",
    "# print(res.shape)\n",
    "threshold = 0.8\n",
    "loc = np.where(res >= threshold)\n",
    "for pt in zip(*loc[::-1]):\n",
    "    cv2.rectangle(source , pt , (pt[0]+w , pt[1] +  h) , (0 , 0 , 255) , 1)\n",
    "\n",
    "cv2.imshow('detected',source)\n",
    "cv2.waitKey(0)\n",
    "cv2.destroyAllWindows()"
   ]
  }
 ],
 "metadata": {
  "kernelspec": {
   "display_name": "Python 3",
   "language": "python",
   "name": "python3"
  },
  "language_info": {
   "codemirror_mode": {
    "name": "ipython",
    "version": 3
   },
   "file_extension": ".py",
   "mimetype": "text/x-python",
   "name": "python",
   "nbconvert_exporter": "python",
   "pygments_lexer": "ipython3",
   "version": "3.6.4"
  }
 },
 "nbformat": 4,
 "nbformat_minor": 4
}
