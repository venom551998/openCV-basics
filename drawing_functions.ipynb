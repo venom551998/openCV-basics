{
 "cells": [
  {
   "cell_type": "code",
   "execution_count": 1,
   "metadata": {},
   "outputs": [],
   "source": [
    "import numpy as np\n",
    "import cv2"
   ]
  },
  {
   "cell_type": "code",
   "execution_count": 16,
   "metadata": {},
   "outputs": [],
   "source": [
    "img=cv2.imread('600893.jpg',cv2.IMREAD_COLOR)\n",
    "cv2.line(img,(0,0),(500,500),(0,255,255),5)\n",
    "\n",
    "cv2.rectangle(img,(50,50),(600,600),(255,0,0),5)\n",
    "\n",
    "cv2.circle(img,(900,200),170,(0,0,255),5)\n",
    "\n",
    "cv2.circle(img,(200,200),100,(0,0,255),-1)\n",
    "\n",
    "cv2.ellipse(img,(300,500),(100,50),0,0,360,255,-1)\n",
    "\n",
    "pts=np.array([[10,5],[20,30],[70,20],[50,10]],np.int32)\n",
    "cv2.polylines(img,[pts],True,(0,0,0),2)\n",
    "\n",
    "font=cv2.FONT_HERSHEY_SIMPLEX\n",
    "cv2.putText(img,'you are mine',(100,100),font,2,(0,0,0),2,cv2.LINE_AA)\n",
    "\n",
    "cv2.imshow('window',img)\n",
    "cv2.waitKey(0)\n",
    "cv2.destroyAllWindows()"
   ]
  },
  {
   "cell_type": "code",
   "execution_count": null,
   "metadata": {},
   "outputs": [],
   "source": []
  },
  {
   "cell_type": "code",
   "execution_count": null,
   "metadata": {},
   "outputs": [],
   "source": []
  },
  {
   "cell_type": "code",
   "execution_count": null,
   "metadata": {},
   "outputs": [],
   "source": []
  },
  {
   "cell_type": "code",
   "execution_count": null,
   "metadata": {},
   "outputs": [],
   "source": []
  }
 ],
 "metadata": {
  "kernelspec": {
   "display_name": "Python 3",
   "language": "python",
   "name": "python3"
  },
  "language_info": {
   "codemirror_mode": {
    "name": "ipython",
    "version": 3
   },
   "file_extension": ".py",
   "mimetype": "text/x-python",
   "name": "python",
   "nbconvert_exporter": "python",
   "pygments_lexer": "ipython3",
   "version": "3.6.4"
  }
 },
 "nbformat": 4,
 "nbformat_minor": 4
}
