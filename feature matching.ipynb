{
 "cells": [
  {
   "cell_type": "code",
   "execution_count": 6,
   "metadata": {},
   "outputs": [],
   "source": [
    "import numpy as np\n",
    "import cv2\n",
    "import matplotlib.pyplot as plt"
   ]
  },
  {
   "cell_type": "markdown",
   "metadata": {},
   "source": [
    "img1 = cv2.imread('opencv-feature-matching-image.jpg',0)\n",
    "img2 = cv2.imread('opencv-feature-matching-template.jpg',0)\n",
    "orb = cv2.ORB_create()                                         # initiate ORB detector\n",
    "#find the keypoints and descriptors with ORB\n",
    "kp1 , des1 = orb.detectAndCompute(img1,None)\n",
    "kp2 , des2 = orb.detectAndCompute(img2,None)\n",
    "#create BFMatcher object\n",
    "bf = cv2.BFMatcher(cv2.NORM_HAMMING,crossCheck=True)\n",
    "#match descriptors\n",
    "matches = bf.match(des1 , des2)\n",
    "matches = sorted(matches , key = lambda x:x.distance)\n",
    "img3 = cv2.drawMatches(img1,kp1,img2,kp2,matches[:10],None,flags=2)\n",
    "cv2.imshow('result',img3)\n",
    "cv2.waitKey(0)\n",
    "cv2.destroyAllWindows()"
   ]
  },
  {
   "cell_type": "code",
   "execution_count": null,
   "metadata": {},
   "outputs": [],
   "source": []
  },
  {
   "cell_type": "code",
   "execution_count": null,
   "metadata": {},
   "outputs": [],
   "source": []
  }
 ],
 "metadata": {
  "kernelspec": {
   "display_name": "Python 3",
   "language": "python",
   "name": "python3"
  },
  "language_info": {
   "codemirror_mode": {
    "name": "ipython",
    "version": 3
   },
   "file_extension": ".py",
   "mimetype": "text/x-python",
   "name": "python",
   "nbconvert_exporter": "python",
   "pygments_lexer": "ipython3",
   "version": "3.6.4"
  }
 },
 "nbformat": 4,
 "nbformat_minor": 4
}
