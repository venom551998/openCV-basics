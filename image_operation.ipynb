{
 "cells": [
  {
   "cell_type": "code",
   "execution_count": 1,
   "metadata": {},
   "outputs": [],
   "source": [
    "import numpy as np\n",
    "import cv2"
   ]
  },
  {
   "cell_type": "code",
   "execution_count": 2,
   "metadata": {},
   "outputs": [],
   "source": [
    "img=cv2.imread('600893.jpg',cv2.IMREAD_COLOR)\n",
    "# px = img[55,55]\n",
    "# print(px)\n",
    "\n",
    "# img[55,55]=[255,255,255]\n",
    "# px = img[55,55]\n",
    "# print(px)"
   ]
  },
  {
   "cell_type": "code",
   "execution_count": 3,
   "metadata": {},
   "outputs": [
    {
     "name": "stdout",
     "output_type": "stream",
     "text": [
      "[[[188 187 219]\n",
      "  [188 187 219]\n",
      "  [189 188 220]\n",
      "  ...\n",
      "  [198 200 224]\n",
      "  [198 200 224]\n",
      "  [198 200 224]]\n",
      "\n",
      " [[188 187 219]\n",
      "  [188 187 219]\n",
      "  [189 188 220]\n",
      "  ...\n",
      "  [198 200 224]\n",
      "  [198 200 224]\n",
      "  [198 200 224]]\n",
      "\n",
      " [[188 187 219]\n",
      "  [188 187 219]\n",
      "  [189 188 220]\n",
      "  ...\n",
      "  [198 200 224]\n",
      "  [198 200 224]\n",
      "  [198 200 224]]\n",
      "\n",
      " ...\n",
      "\n",
      " [[186 188 219]\n",
      "  [186 188 219]\n",
      "  [189 188 220]\n",
      "  ...\n",
      "  [198 200 224]\n",
      "  [198 200 224]\n",
      "  [198 200 224]]\n",
      "\n",
      " [[186 188 219]\n",
      "  [186 188 219]\n",
      "  [189 188 220]\n",
      "  ...\n",
      "  [198 200 224]\n",
      "  [198 200 224]\n",
      "  [198 200 224]]\n",
      "\n",
      " [[186 188 219]\n",
      "  [186 188 219]\n",
      "  [189 188 220]\n",
      "  ...\n",
      "  [198 200 224]\n",
      "  [198 200 224]\n",
      "  [198 200 224]]]\n"
     ]
    },
    {
     "data": {
      "text/plain": [
       "(50, 50, 3)"
      ]
     },
     "execution_count": 3,
     "metadata": {},
     "output_type": "execute_result"
    }
   ],
   "source": [
    "# region of image\n",
    "roi = img[100:150,100:150]\n",
    "print(roi)\n",
    "np.shape(roi)"
   ]
  },
  {
   "cell_type": "code",
   "execution_count": 4,
   "metadata": {},
   "outputs": [],
   "source": [
    "cv2.imshow('image',img)\n",
    "cv2.waitKey(0)\n",
    "cv2.destroyAllWindows()"
   ]
  },
  {
   "cell_type": "code",
   "execution_count": 13,
   "metadata": {},
   "outputs": [],
   "source": [
    "# img[100:500,100:500]=[0,0,0]\n",
    "# cv2.imshow('image',img)\n",
    "# cv2.waitKey(0)\n",
    "# cv2.destroyAllWindows()"
   ]
  },
  {
   "cell_type": "code",
   "execution_count": 7,
   "metadata": {},
   "outputs": [],
   "source": [
    "watch_face = img[1000:1200,300:500]\n",
    "img[0:200,0:200]=watch_face\n",
    "cv2.imshow('image',img)\n",
    "cv2.waitKey(0)\n",
    "cv2.destroyAllWindows()"
   ]
  }
 ],
 "metadata": {
  "kernelspec": {
   "display_name": "Python 3",
   "language": "python",
   "name": "python3"
  },
  "language_info": {
   "codemirror_mode": {
    "name": "ipython",
    "version": 3
   },
   "file_extension": ".py",
   "mimetype": "text/x-python",
   "name": "python",
   "nbconvert_exporter": "python",
   "pygments_lexer": "ipython3",
   "version": "3.6.4"
  }
 },
 "nbformat": 4,
 "nbformat_minor": 4
}
