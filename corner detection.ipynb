{
 "cells": [
  {
   "cell_type": "code",
   "execution_count": 1,
   "metadata": {},
   "outputs": [],
   "source": [
    "import numpy as np\n",
    "import cv2"
   ]
  },
  {
   "cell_type": "code",
   "execution_count": 6,
   "metadata": {},
   "outputs": [],
   "source": [
    "img = cv2.imread('opencv-corner-detection-sample.jpg')\n",
    "img_gray = cv2.cvtColor(img,cv2.COLOR_BGR2GRAY)\n",
    "img_gray = np.float32(img_gray)                           #we need floating point values for corner detection\n",
    "corners = cv2.goodFeaturesToTrack(img_gray , 100 , 0.01 , 10)\n",
    "corners = np.int0(corners)                                #convert them into interger type                               \n",
    "for corner in corners:\n",
    "    x , y = corner.ravel()\n",
    "    cv2.circle(img , (x,y) , 3 , (0,0,255) , -1)\n",
    "cv2.imshow('corner',img)\n",
    "cv2.waitKey(0)\n",
    "cv2.destroyAllWindows()"
   ]
  }
 ],
 "metadata": {
  "kernelspec": {
   "display_name": "Python 3",
   "language": "python",
   "name": "python3"
  },
  "language_info": {
   "codemirror_mode": {
    "name": "ipython",
    "version": 3
   },
   "file_extension": ".py",
   "mimetype": "text/x-python",
   "name": "python",
   "nbconvert_exporter": "python",
   "pygments_lexer": "ipython3",
   "version": "3.6.4"
  }
 },
 "nbformat": 4,
 "nbformat_minor": 4
}
